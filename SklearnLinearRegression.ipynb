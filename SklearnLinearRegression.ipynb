import numpy as np
import pandas as pd
import matplotlib.pyplot as plt
import seaborn as sns 
sns.set()
from sklearn.linear_model import LinearRegression


data = pd.read_csv("C:/Users/User/Downloads/1.01. Simple linear regression.csv")
data.head()


x = data['SAT']
y = data["GPA"]
x.shape
x_matrix = x.values.reshape(84,1)
y_matrix = y.values.reshape(84,1)


reg = LinearRegression()
reg.fit(x_matrix,y)

#R Squared
reg.score(x_matrix,y)
#Coefficients
reg.coef_
#Intercept
reg.intercept_


#Predict 
reg.predict([[1740]])


new_data = pd.DataFrame(data=[1740,1760], columns = ['SAT'])
print(new_data)


from sklearn.feature_selection import f_regression



f_regression(x_matrix, y)
p_values = f_regression(x_matrix, y)[0]
p_values.round()
