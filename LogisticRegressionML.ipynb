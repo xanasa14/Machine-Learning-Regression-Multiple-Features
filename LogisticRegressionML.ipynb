import pandas as pd
import numpy as np
import seaborn as sns
import matplotlib.pyplot as plt
%matplotlib inline
from numpy import array
from sklearn.linear_model import LogisticRegression
from sklearn.metrics import f1_score
from sklearn.metrics import precision_recall_fscore_support
from sklearn.externals import joblib
#reading Data
diabetesDF = pd.read_csv('diabetes.csv')
#print(diabetesDF.head())
diabetesDF.info() # let u see the types
C = np.array(diabetesDF["Glucose"])
F = np.array(diabetesDF["Outcome"])
print(len(C))
print(len(F))
dfTrain = diabetesDF[:650]
dfTest = diabetesDF[650:750]
dfCheck = diabetesDF[750:]

trainLabel = np.asarray(dfTrain['Outcome'])
trainData = np.asarray(dfTrain.drop('Outcome',1))
testLabel = np.asarray(dfTest['Outcome'])
testData = np.asarray(dfTest.drop('Outcome',1))
means = np.mean(trainData, axis=0)
stds = np.std(trainData, axis=0)
trainData = (trainData - means)/stds
testData = (testData - means)/stds
# np.mean(trainData, axis=0) => check that new means equal 0
# np.std(trainData, axis=0) => check that new stds equal 1
diabetesCheck = LogisticRegression()
y_pred = diabetesCheck.fit(trainData, trainLabel)
accuracy = diabetesCheck.score(testData, testLabel)
print("accuracy = ", accuracy * 100, "%")
coeff = list(diabetesCheck.coef_[0])
labels = list(dfTrain.drop('Outcome',1).columns)

features = pd.DataFrame()
features['Features'] = labels
features['importance'] = coeff
features.sort_values(by=['importance'], ascending=True, inplace=True)
features['positive'] = features['importance'] > 0
features.set_index('Features', inplace=True)
features.importance.plot(kind='barh', figsize=(11, 7),color = features.positive.map({True: 'green', False: 'red'}))
plt.xlabel('Importance')


from sklearn.linear_model import LinearRegression


#Creating a model
reg = LinearRegression()
Size = len (F)
#C = C.reshape((Size,-1))

print("C shape ", C.shape)
print("F shape ", F.shape)


C = C.reshape((Size,-1))
New_C = C
#New_C = New_C.reshape((Size,1))

#C = C.reshape((Size,1))
#F = F.reshape((Size,-1))
#C = C.values.reshape(Size,1)

#Fitting Training Data
reg = reg.fit(C,F)
#Faranheit Prediction in based of the model
F_Pred = reg.predict(New_C)
print("New C shape ",New_C.shape)
#r2_score = reg.score(C,F)
# 25 is 77
for i in range (5):
    print(New_C[i])
    print (F_Pred[i])
print(reg.predict([[200]]))
